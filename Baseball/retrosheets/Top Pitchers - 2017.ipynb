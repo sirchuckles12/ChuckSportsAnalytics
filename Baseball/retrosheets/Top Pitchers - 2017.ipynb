{
 "cells": [
  {
   "cell_type": "markdown",
   "metadata": {},
   "source": [
    "# Top Pitchers in 2017"
   ]
  },
  {
   "cell_type": "code",
   "execution_count": 1,
   "metadata": {},
   "outputs": [],
   "source": [
    "import os\n",
    "import sys\n",
    "import numpy as np\n",
    "import pandas as pd\n",
    "import pickle\n",
    "from sqlalchemy import create_engine\n",
    "from credentials import BASEBALL_DB_NAME, BASEBALL_DB_PWD\n",
    "\n",
    "engine = create_engine('postgresql://baseball:{}@localhost:5432/{}'.format(BASEBALL_DB_PWD, BASEBALL_DB_NAME))\n",
    "\n",
    "psd_query = open('sql_queries//pitcher_scores_daily.sql').read()\n",
    "res= engine.execute(psd_query)\n",
    "res.close()"
   ]
  },
  {
   "cell_type": "code",
   "execution_count": 2,
   "metadata": {},
   "outputs": [],
   "source": [
    "pitcher_scores = pd.read_sql(\"SELECT * FROM pitcher_scores_daily WHERE \\\"Date\\\" > '2017-01-01'\", engine)"
   ]
  },
  {
   "cell_type": "markdown",
   "metadata": {},
   "source": [
    "# Best debut\n",
    "\n",
    "First a note of caution - for batters, we consider them successful if they have a large \"run contribution\" (i.e. they're scoring runs for their team). For pitchers, though, it's the opposite. They should have a very low \"other team run contribution\" (i.e. they're keeping the other team from scoring).\n",
    "\n",
    "The best debut belongs to Dillon Peters - he pitched through the end of the 7th inning, and gave up no runs during that time. Thus, he brought down the Phillies \"expected score\" by almost 4 runs."
   ]
  },
  {
   "cell_type": "code",
   "execution_count": 3,
   "metadata": {},
   "outputs": [
    {
     "data": {
      "text/html": [
       "<div>\n",
       "<style scoped>\n",
       "    .dataframe tbody tr th:only-of-type {\n",
       "        vertical-align: middle;\n",
       "    }\n",
       "\n",
       "    .dataframe tbody tr th {\n",
       "        vertical-align: top;\n",
       "    }\n",
       "\n",
       "    .dataframe thead th {\n",
       "        text-align: right;\n",
       "    }\n",
       "</style>\n",
       "<table border=\"1\" class=\"dataframe\">\n",
       "  <thead>\n",
       "    <tr style=\"text-align: right;\">\n",
       "      <th></th>\n",
       "      <th>Pitcher</th>\n",
       "      <th>Date</th>\n",
       "      <th>win_contribution_overall</th>\n",
       "      <th>run_contribution_overall</th>\n",
       "      <th>other_run_contribution_overall</th>\n",
       "      <th>num_game_ever</th>\n",
       "      <th>win_contribution_15game</th>\n",
       "      <th>run_contribution_15game</th>\n",
       "      <th>other_run_contribution_15game</th>\n",
       "      <th>num_game</th>\n",
       "    </tr>\n",
       "  </thead>\n",
       "  <tbody>\n",
       "    <tr>\n",
       "      <th>14473</th>\n",
       "      <td>peted001</td>\n",
       "      <td>2017-09-01</td>\n",
       "      <td>0.552802</td>\n",
       "      <td>-0.039622</td>\n",
       "      <td>-4.148448</td>\n",
       "      <td>1</td>\n",
       "      <td>0.552802</td>\n",
       "      <td>-0.039622</td>\n",
       "      <td>-4.148448</td>\n",
       "      <td>1</td>\n",
       "    </tr>\n",
       "    <tr>\n",
       "      <th>20135</th>\n",
       "      <td>woodb005</td>\n",
       "      <td>2017-08-04</td>\n",
       "      <td>0.581038</td>\n",
       "      <td>0.153054</td>\n",
       "      <td>-4.074209</td>\n",
       "      <td>1</td>\n",
       "      <td>0.581038</td>\n",
       "      <td>0.153054</td>\n",
       "      <td>-4.074209</td>\n",
       "      <td>1</td>\n",
       "    </tr>\n",
       "    <tr>\n",
       "      <th>6374</th>\n",
       "      <td>garra001</td>\n",
       "      <td>2017-04-07</td>\n",
       "      <td>0.478885</td>\n",
       "      <td>0.419595</td>\n",
       "      <td>-3.311178</td>\n",
       "      <td>1</td>\n",
       "      <td>0.478885</td>\n",
       "      <td>0.419595</td>\n",
       "      <td>-3.311178</td>\n",
       "      <td>1</td>\n",
       "    </tr>\n",
       "    <tr>\n",
       "      <th>17385</th>\n",
       "      <td>skoge001</td>\n",
       "      <td>2017-05-30</td>\n",
       "      <td>0.474837</td>\n",
       "      <td>0.137314</td>\n",
       "      <td>-3.190977</td>\n",
       "      <td>1</td>\n",
       "      <td>0.474837</td>\n",
       "      <td>0.137314</td>\n",
       "      <td>-3.190977</td>\n",
       "      <td>1</td>\n",
       "    </tr>\n",
       "    <tr>\n",
       "      <th>16912</th>\n",
       "      <td>senza001</td>\n",
       "      <td>2017-04-06</td>\n",
       "      <td>0.379094</td>\n",
       "      <td>0.121467</td>\n",
       "      <td>-3.125499</td>\n",
       "      <td>1</td>\n",
       "      <td>0.379094</td>\n",
       "      <td>0.121467</td>\n",
       "      <td>-3.125499</td>\n",
       "      <td>1</td>\n",
       "    </tr>\n",
       "  </tbody>\n",
       "</table>\n",
       "</div>"
      ],
      "text/plain": [
       "        Pitcher       Date  win_contribution_overall  \\\n",
       "14473  peted001 2017-09-01                  0.552802   \n",
       "20135  woodb005 2017-08-04                  0.581038   \n",
       "6374   garra001 2017-04-07                  0.478885   \n",
       "17385  skoge001 2017-05-30                  0.474837   \n",
       "16912  senza001 2017-04-06                  0.379094   \n",
       "\n",
       "       run_contribution_overall  other_run_contribution_overall  \\\n",
       "14473                 -0.039622                       -4.148448   \n",
       "20135                  0.153054                       -4.074209   \n",
       "6374                   0.419595                       -3.311178   \n",
       "17385                  0.137314                       -3.190977   \n",
       "16912                  0.121467                       -3.125499   \n",
       "\n",
       "       num_game_ever  win_contribution_15game  run_contribution_15game  \\\n",
       "14473              1                 0.552802                -0.039622   \n",
       "20135              1                 0.581038                 0.153054   \n",
       "6374               1                 0.478885                 0.419595   \n",
       "17385              1                 0.474837                 0.137314   \n",
       "16912              1                 0.379094                 0.121467   \n",
       "\n",
       "       other_run_contribution_15game  num_game  \n",
       "14473                      -4.148448         1  \n",
       "20135                      -4.074209         1  \n",
       "6374                       -3.311178         1  \n",
       "17385                      -3.190977         1  \n",
       "16912                      -3.125499         1  "
      ]
     },
     "execution_count": 3,
     "metadata": {},
     "output_type": "execute_result"
    }
   ],
   "source": [
    "pitcher_scores[pitcher_scores['num_game_ever'] == 1].sort_values('other_run_contribution_overall', ascending = True).head()"
   ]
  },
  {
   "cell_type": "markdown",
   "metadata": {},
   "source": [
    "Now let's zoom out even more, and require the player to have been in at least 50 games previously. Here we see some familiar names - Clayton Kershaw, Jacob deGrom, Noah Syndergaard, Johnny Cueto and Madison Bumgarner."
   ]
  },
  {
   "cell_type": "code",
   "execution_count": 4,
   "metadata": {},
   "outputs": [
    {
     "data": {
      "text/html": [
       "<div>\n",
       "<style scoped>\n",
       "    .dataframe tbody tr th:only-of-type {\n",
       "        vertical-align: middle;\n",
       "    }\n",
       "\n",
       "    .dataframe tbody tr th {\n",
       "        vertical-align: top;\n",
       "    }\n",
       "\n",
       "    .dataframe thead th {\n",
       "        text-align: right;\n",
       "    }\n",
       "</style>\n",
       "<table border=\"1\" class=\"dataframe\">\n",
       "  <thead>\n",
       "    <tr style=\"text-align: right;\">\n",
       "      <th></th>\n",
       "      <th>other_run_contribution_overall</th>\n",
       "    </tr>\n",
       "    <tr>\n",
       "      <th>Pitcher</th>\n",
       "      <th></th>\n",
       "    </tr>\n",
       "  </thead>\n",
       "  <tbody>\n",
       "    <tr>\n",
       "      <th>kersc001</th>\n",
       "      <td>-1.859172</td>\n",
       "    </tr>\n",
       "    <tr>\n",
       "      <th>degrj001</th>\n",
       "      <td>-1.316750</td>\n",
       "    </tr>\n",
       "    <tr>\n",
       "      <th>cuetj001</th>\n",
       "      <td>-1.194329</td>\n",
       "    </tr>\n",
       "    <tr>\n",
       "      <th>syndn001</th>\n",
       "      <td>-1.177949</td>\n",
       "    </tr>\n",
       "    <tr>\n",
       "      <th>hendk001</th>\n",
       "      <td>-1.123473</td>\n",
       "    </tr>\n",
       "  </tbody>\n",
       "</table>\n",
       "</div>"
      ],
      "text/plain": [
       "          other_run_contribution_overall\n",
       "Pitcher                                 \n",
       "kersc001                       -1.859172\n",
       "degrj001                       -1.316750\n",
       "cuetj001                       -1.194329\n",
       "syndn001                       -1.177949\n",
       "hendk001                       -1.123473"
      ]
     },
     "execution_count": 4,
     "metadata": {},
     "output_type": "execute_result"
    }
   ],
   "source": [
    "pitcher_scores[pitcher_scores['num_game_ever'] > 50].groupby('Pitcher').agg({'other_run_contribution_overall': 'mean'}).sort_values('other_run_contribution_overall', ascending = True).head()"
   ]
  },
  {
   "cell_type": "markdown",
   "metadata": {},
   "source": [
    "What's odd about this is that none of these are the Cy Young award winners for 2017! Part of that is that these numbers span seasons - we don't \"start over\" each year, like the Cy Young might.\n",
    "\n",
    "Here, we look just at the last 15 game appearances. By this metric, Matt Scherzer should win (he did), and Corey Kluber is a reasonable choice (he also won)."
   ]
  },
  {
   "cell_type": "code",
   "execution_count": 5,
   "metadata": {},
   "outputs": [
    {
     "data": {
      "text/html": [
       "<div>\n",
       "<style scoped>\n",
       "    .dataframe tbody tr th:only-of-type {\n",
       "        vertical-align: middle;\n",
       "    }\n",
       "\n",
       "    .dataframe tbody tr th {\n",
       "        vertical-align: top;\n",
       "    }\n",
       "\n",
       "    .dataframe thead th {\n",
       "        text-align: right;\n",
       "    }\n",
       "</style>\n",
       "<table border=\"1\" class=\"dataframe\">\n",
       "  <thead>\n",
       "    <tr style=\"text-align: right;\">\n",
       "      <th></th>\n",
       "      <th>other_run_contribution_15game</th>\n",
       "    </tr>\n",
       "    <tr>\n",
       "      <th>Pitcher</th>\n",
       "      <th></th>\n",
       "    </tr>\n",
       "  </thead>\n",
       "  <tbody>\n",
       "    <tr>\n",
       "      <th>kersc001</th>\n",
       "      <td>-1.912058</td>\n",
       "    </tr>\n",
       "    <tr>\n",
       "      <th>schem001</th>\n",
       "      <td>-1.887505</td>\n",
       "    </tr>\n",
       "    <tr>\n",
       "      <th>klubc001</th>\n",
       "      <td>-1.807730</td>\n",
       "    </tr>\n",
       "    <tr>\n",
       "      <th>gonzg003</th>\n",
       "      <td>-1.649005</td>\n",
       "    </tr>\n",
       "    <tr>\n",
       "      <th>wooda002</th>\n",
       "      <td>-1.589440</td>\n",
       "    </tr>\n",
       "  </tbody>\n",
       "</table>\n",
       "</div>"
      ],
      "text/plain": [
       "          other_run_contribution_15game\n",
       "Pitcher                                \n",
       "kersc001                      -1.912058\n",
       "schem001                      -1.887505\n",
       "klubc001                      -1.807730\n",
       "gonzg003                      -1.649005\n",
       "wooda002                      -1.589440"
      ]
     },
     "execution_count": 5,
     "metadata": {},
     "output_type": "execute_result"
    }
   ],
   "source": [
    "pitcher_scores[(pitcher_scores['Date'] > '2017-07-01') & (pitcher_scores['num_game_ever'] > 50)].groupby('Pitcher').agg({'other_run_contribution_15game': 'mean'}).sort_values('other_run_contribution_15game', ascending = True).head()"
   ]
  },
  {
   "cell_type": "markdown",
   "metadata": {},
   "source": [
    "But if we measure which pitchers did the most to help their team win, Clayton Kershaw was robbed! In games where he appeared, the likelihood of his team winning increased by 24%! Some of that is due to good production from the offense, but it's still a remarkable statistic."
   ]
  },
  {
   "cell_type": "code",
   "execution_count": 6,
   "metadata": {},
   "outputs": [
    {
     "data": {
      "text/html": [
       "<div>\n",
       "<style scoped>\n",
       "    .dataframe tbody tr th:only-of-type {\n",
       "        vertical-align: middle;\n",
       "    }\n",
       "\n",
       "    .dataframe tbody tr th {\n",
       "        vertical-align: top;\n",
       "    }\n",
       "\n",
       "    .dataframe thead th {\n",
       "        text-align: right;\n",
       "    }\n",
       "</style>\n",
       "<table border=\"1\" class=\"dataframe\">\n",
       "  <thead>\n",
       "    <tr style=\"text-align: right;\">\n",
       "      <th></th>\n",
       "      <th>win_contribution_15game</th>\n",
       "    </tr>\n",
       "    <tr>\n",
       "      <th>Pitcher</th>\n",
       "      <th></th>\n",
       "    </tr>\n",
       "  </thead>\n",
       "  <tbody>\n",
       "    <tr>\n",
       "      <th>kersc001</th>\n",
       "      <td>0.270098</td>\n",
       "    </tr>\n",
       "    <tr>\n",
       "      <th>schem001</th>\n",
       "      <td>0.223489</td>\n",
       "    </tr>\n",
       "    <tr>\n",
       "      <th>gonzg003</th>\n",
       "      <td>0.205667</td>\n",
       "    </tr>\n",
       "    <tr>\n",
       "      <th>klubc001</th>\n",
       "      <td>0.204494</td>\n",
       "    </tr>\n",
       "    <tr>\n",
       "      <th>wooda002</th>\n",
       "      <td>0.183465</td>\n",
       "    </tr>\n",
       "  </tbody>\n",
       "</table>\n",
       "</div>"
      ],
      "text/plain": [
       "          win_contribution_15game\n",
       "Pitcher                          \n",
       "kersc001                 0.270098\n",
       "schem001                 0.223489\n",
       "gonzg003                 0.205667\n",
       "klubc001                 0.204494\n",
       "wooda002                 0.183465"
      ]
     },
     "execution_count": 6,
     "metadata": {},
     "output_type": "execute_result"
    }
   ],
   "source": [
    "pitcher_scores[(pitcher_scores['Date'] > '2017-07-01') & (pitcher_scores['num_game_ever'] > 50)].groupby('Pitcher').agg({'win_contribution_15game': 'mean'}).sort_values('win_contribution_15game', ascending = False).head()"
   ]
  }
 ],
 "metadata": {
  "kernelspec": {
   "display_name": "Python 3 (ipykernel)",
   "language": "python",
   "name": "python3"
  },
  "language_info": {
   "codemirror_mode": {
    "name": "ipython",
    "version": 3
   },
   "file_extension": ".py",
   "mimetype": "text/x-python",
   "name": "python",
   "nbconvert_exporter": "python",
   "pygments_lexer": "ipython3",
   "version": "3.9.12"
  }
 },
 "nbformat": 4,
 "nbformat_minor": 2
}
