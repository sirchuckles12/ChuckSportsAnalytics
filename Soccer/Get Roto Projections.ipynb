{
 "cells": [
  {
   "cell_type": "code",
   "execution_count": 1,
   "id": "b6dad01b",
   "metadata": {},
   "outputs": [
    {
     "ename": "ModuleNotFoundError",
     "evalue": "No module named 'credentials'",
     "output_type": "error",
     "traceback": [
      "\u001b[0;31m---------------------------------------------------------------------------\u001b[0m",
      "\u001b[0;31mModuleNotFoundError\u001b[0m                       Traceback (most recent call last)",
      "Cell \u001b[0;32mIn[1], line 9\u001b[0m\n\u001b[1;32m      7\u001b[0m \u001b[38;5;28;01mimport\u001b[39;00m \u001b[38;5;21;01mdatetime\u001b[39;00m \u001b[38;5;28;01mas\u001b[39;00m \u001b[38;5;21;01mdt\u001b[39;00m\n\u001b[1;32m      8\u001b[0m \u001b[38;5;28;01mimport\u001b[39;00m \u001b[38;5;21;01mos\u001b[39;00m\n\u001b[0;32m----> 9\u001b[0m \u001b[38;5;28;01mfrom\u001b[39;00m \u001b[38;5;21;01mcredentials\u001b[39;00m \u001b[38;5;28;01mimport\u001b[39;00m user, passwd\n\u001b[1;32m     11\u001b[0m \u001b[38;5;28;01mfrom\u001b[39;00m \u001b[38;5;21;01mselenium\u001b[39;00m\u001b[38;5;21;01m.\u001b[39;00m\u001b[38;5;21;01mwebdriver\u001b[39;00m\u001b[38;5;21;01m.\u001b[39;00m\u001b[38;5;21;01mchrome\u001b[39;00m\u001b[38;5;21;01m.\u001b[39;00m\u001b[38;5;21;01moptions\u001b[39;00m \u001b[38;5;28;01mimport\u001b[39;00m Options\n",
      "\u001b[0;31mModuleNotFoundError\u001b[0m: No module named 'credentials'"
     ]
    }
   ],
   "source": [
    "import pandas as pd\n",
    "import requests\n",
    "import selenium\n",
    "from selenium import webdriver\n",
    "from selenium.webdriver.common.by import By\n",
    "import time\n",
    "import datetime as dt\n",
    "import os\n",
    "from credentials import user, passwd\n",
    "\n",
    "from selenium.webdriver.chrome.options import Options"
   ]
  },
  {
   "cell_type": "code",
   "execution_count": null,
   "id": "24483b8e",
   "metadata": {},
   "outputs": [],
   "source": [
    "def clean_downloads():\n",
    "    downloads = os.listdir('C:/Users/Chuck/Downloads/')\n",
    "    to_delete = [x for x in downloads if 'soccer-projections' in x]\n",
    "    if len(to_delete):\n",
    "        for x in to_delete:\n",
    "            os.remove('C:/Users/Chuck/Downloads/{}'.format(x))\n",
    "            \n",
    "clean_downloads()"
   ]
  },
  {
   "cell_type": "code",
   "execution_count": null,
   "id": "25515cc3",
   "metadata": {},
   "outputs": [],
   "source": [
    "os.mkdir('projections/{}/'.format(dt.datetime.now().date()))"
   ]
  },
  {
   "cell_type": "code",
   "execution_count": null,
   "id": "ce78beec",
   "metadata": {},
   "outputs": [],
   "source": [
    "options = Options()\n",
    "\n",
    "driver = webdriver.Chrome(options=options)\n",
    "driver.get('https://www.rotowire.com/users/login.php')\n",
    "\n",
    "b = driver.find_elements(by = By.NAME, value = 'username')\n",
    "b[0].send_keys(user)\n",
    "\n",
    "b = driver.find_elements(by = By.NAME, value = 'password')\n",
    "b[0].send_keys(passwd)\n",
    "\n",
    "b = driver.find_element(by = By.CSS_SELECTOR, value = 'body > div.site-wrapper > div > main > div > div.col-4_xl-5_lg-6_md-12 > form > button')\n",
    "b.click()"
   ]
  },
  {
   "cell_type": "code",
   "execution_count": null,
   "id": "3f6a174c",
   "metadata": {},
   "outputs": [],
   "source": []
  },
  {
   "cell_type": "code",
   "execution_count": null,
   "id": "d744cc1f",
   "metadata": {},
   "outputs": [],
   "source": [
    "driver.get('https://www.rotowire.com/soccer/projections.php?league=SERI')\n",
    "driver.execute_script(\"window.scrollTo(0,document.body.scrollHeight)\")\n",
    "time.sleep(5)\n",
    "b = driver.find_elements(by = By.CLASS_NAME, value = 'export-button.is-csv')\n",
    "b[0].click()\n",
    "\n",
    "time.sleep(5)\n",
    "dat = pd.read_csv('C:/Users/Chuck/Downloads/soccer-projections.csv', header = 1)\n",
    "dat['date'] = dt.datetime.now().date()\n",
    "dat['league'] = 'SERI'\n",
    "\n",
    "dat.to_csv('projections/{}/serie_a_projections_{}.csv'.format(dt.datetime.now().date(), dt.datetime.now().date()))\n",
    "\n",
    "clean_downloads()"
   ]
  },
  {
   "cell_type": "code",
   "execution_count": null,
   "id": "14b30963",
   "metadata": {},
   "outputs": [],
   "source": []
  },
  {
   "cell_type": "code",
   "execution_count": null,
   "id": "272321be",
   "metadata": {},
   "outputs": [],
   "source": [
    "driver.get('https://www.rotowire.com/soccer/projections.php?league=MLS')\n",
    "driver.execute_script(\"window.scrollTo(0,document.body.scrollHeight)\")\n",
    "time.sleep(5)\n",
    "b = driver.find_elements(by = By.CLASS_NAME, value = 'export-button.is-csv')\n",
    "b[0].click()\n",
    "\n",
    "time.sleep(5)\n",
    "dat = pd.read_csv('C:/Users/Chuck/Downloads/soccer-projections.csv', header = 1)\n",
    "dat['date'] = dt.datetime.now().date()\n",
    "dat['league'] = 'MLS'\n",
    "\n",
    "dat.to_csv('projections/{}/mls_projections_{}.csv'.format(dt.datetime.now().date(), dt.datetime.now().date()))\n",
    "\n",
    "clean_downloads()"
   ]
  },
  {
   "cell_type": "code",
   "execution_count": null,
   "id": "62faaecf",
   "metadata": {},
   "outputs": [],
   "source": []
  },
  {
   "cell_type": "code",
   "execution_count": null,
   "id": "985927b2",
   "metadata": {},
   "outputs": [],
   "source": [
    "driver.get('https://www.rotowire.com/soccer/projections.php?league=LIGA')\n",
    "driver.execute_script(\"window.scrollTo(0,document.body.scrollHeight)\")\n",
    "time.sleep(5)\n",
    "b = driver.find_elements(by = By.CLASS_NAME, value = 'export-button.is-csv')\n",
    "b[0].click()\n",
    "\n",
    "time.sleep(5)\n",
    "dat = pd.read_csv('C:/Users/Chuck/Downloads/soccer-projections.csv', header = 1)\n",
    "dat['date'] = dt.datetime.now().date()\n",
    "dat['league'] = 'LIGA'\n",
    "\n",
    "dat.to_csv('projections/{}/liga_projections_{}.csv'.format(dt.datetime.now().date(), dt.datetime.now().date()))\n",
    "\n",
    "clean_downloads()"
   ]
  },
  {
   "cell_type": "code",
   "execution_count": null,
   "id": "708ea898",
   "metadata": {},
   "outputs": [],
   "source": []
  },
  {
   "cell_type": "code",
   "execution_count": null,
   "id": "913026a4",
   "metadata": {},
   "outputs": [],
   "source": [
    "driver.get('https://www.rotowire.com/soccer/projections.php?league=BUND')\n",
    "driver.execute_script(\"window.scrollTo(0,document.body.scrollHeight)\")\n",
    "time.sleep(5)\n",
    "b = driver.find_elements(by = By.CLASS_NAME, value = 'export-button.is-csv')\n",
    "b[0].click()\n",
    "\n",
    "time.sleep(5)\n",
    "dat = pd.read_csv('C:/Users/Chuck/Downloads/soccer-projections.csv', header = 1)\n",
    "dat['date'] = dt.datetime.now().date()\n",
    "dat['league'] = 'BUND'\n",
    "\n",
    "dat.to_csv('projections/{}/bund_projections_{}.csv'.format(dt.datetime.now().date(), dt.datetime.now().date()))\n",
    "\n",
    "clean_downloads()"
   ]
  },
  {
   "cell_type": "code",
   "execution_count": null,
   "id": "365452b6",
   "metadata": {},
   "outputs": [],
   "source": []
  },
  {
   "cell_type": "code",
   "execution_count": null,
   "id": "83fab10e",
   "metadata": {},
   "outputs": [],
   "source": [
    "driver.get('https://www.rotowire.com/soccer/projections.php')\n",
    "driver.execute_script(\"window.scrollTo(0,document.body.scrollHeight)\")\n",
    "time.sleep(5)\n",
    "b = driver.find_elements(by = By.CLASS_NAME, value = 'export-button.is-csv')\n",
    "b[0].click()\n",
    "\n",
    "time.sleep(5)\n",
    "dat = pd.read_csv('C:/Users/Chuck/Downloads/soccer-projections.csv', header = 1)\n",
    "dat['date'] = dt.datetime.now().date()\n",
    "dat['league'] = 'EPL'\n",
    "\n",
    "dat.to_csv('projections/{}/epl_projections_{}.csv'.format(dt.datetime.now().date(), dt.datetime.now().date()))\n",
    "\n",
    "clean_downloads()"
   ]
  },
  {
   "cell_type": "code",
   "execution_count": null,
   "id": "cc6ca0af",
   "metadata": {},
   "outputs": [],
   "source": []
  },
  {
   "cell_type": "code",
   "execution_count": null,
   "id": "d0a13ddb",
   "metadata": {},
   "outputs": [],
   "source": []
  },
  {
   "cell_type": "code",
   "execution_count": null,
   "id": "a4aed6bc",
   "metadata": {},
   "outputs": [],
   "source": []
  },
  {
   "cell_type": "code",
   "execution_count": null,
   "id": "1ad8feea",
   "metadata": {},
   "outputs": [],
   "source": []
  }
 ],
 "metadata": {
  "kernelspec": {
   "display_name": "baseball",
   "language": "python",
   "name": "baseball"
  },
  "language_info": {
   "codemirror_mode": {
    "name": "ipython",
    "version": 3
   },
   "file_extension": ".py",
   "mimetype": "text/x-python",
   "name": "python",
   "nbconvert_exporter": "python",
   "pygments_lexer": "ipython3",
   "version": "3.10.12"
  }
 },
 "nbformat": 4,
 "nbformat_minor": 5
}
